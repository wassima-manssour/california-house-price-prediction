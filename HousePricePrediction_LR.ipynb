{
 "cells": [
  {
   "cell_type": "code",
   "execution_count": 1,
   "metadata": {
    "id": "iXbjLCmDUzlM"
   },
   "outputs": [],
   "source": [
    "import pandas as pd\n",
    "import numpy as np\n",
    "#pip install matplotlib\n",
    "import matplotlib.pyplot as plt\n",
    "%matplotlib inline"
   ]
  },
  {
   "cell_type": "markdown",
   "metadata": {
    "id": "jQ1naucVWulC"
   },
   "source": [
    "#Load the dataset from Sklearn.datasets"
   ]
  },
  {
   "cell_type": "code",
   "execution_count": 2,
   "metadata": {
    "id": "mhnPfOIBVLiV"
   },
   "outputs": [],
   "source": [
    "from sklearn.datasets import load_boston"
   ]
  },
  {
   "cell_type": "code",
   "execution_count": 3,
   "metadata": {
    "id": "tS7baEWtXEk2"
   },
   "outputs": [],
   "source": [
    "from sklearn.datasets import fetch_california_housing\n",
    "housing = fetch_california_housing()"
   ]
  },
  {
   "cell_type": "code",
   "execution_count": 4,
   "metadata": {
    "colab": {
     "base_uri": "https://localhost:8080/"
    },
    "id": "SpYk_-DbXY6b",
    "outputId": "03619055-6956-4fdd-935e-be04214edff0"
   },
   "outputs": [
    {
     "data": {
      "text/plain": [
       "dict_keys(['data', 'target', 'frame', 'target_names', 'feature_names', 'DESCR'])"
      ]
     },
     "execution_count": 4,
     "metadata": {},
     "output_type": "execute_result"
    }
   ],
   "source": [
    "housing.keys()"
   ]
  },
  {
   "cell_type": "code",
   "execution_count": 5,
   "metadata": {
    "colab": {
     "base_uri": "https://localhost:8080/"
    },
    "id": "jwo9j8jiXiqz",
    "outputId": "c47fce26-82dd-4d3c-d579-9e11e2f87cde"
   },
   "outputs": [
    {
     "name": "stdout",
     "output_type": "stream",
     "text": [
      ".. _california_housing_dataset:\n",
      "\n",
      "California Housing dataset\n",
      "--------------------------\n",
      "\n",
      "**Data Set Characteristics:**\n",
      "\n",
      "    :Number of Instances: 20640\n",
      "\n",
      "    :Number of Attributes: 8 numeric, predictive attributes and the target\n",
      "\n",
      "    :Attribute Information:\n",
      "        - MedInc        median income in block\n",
      "        - HouseAge      median house age in block\n",
      "        - AveRooms      average number of rooms\n",
      "        - AveBedrms     average number of bedrooms\n",
      "        - Population    block population\n",
      "        - AveOccup      average house occupancy\n",
      "        - Latitude      house block latitude\n",
      "        - Longitude     house block longitude\n",
      "\n",
      "    :Missing Attribute Values: None\n",
      "\n",
      "This dataset was obtained from the StatLib repository.\n",
      "http://lib.stat.cmu.edu/datasets/\n",
      "\n",
      "The target variable is the median house value for California districts.\n",
      "\n",
      "This dataset was derived from the 1990 U.S. census, using one row per census\n",
      "block group. A block group is the smallest geographical unit for which the U.S.\n",
      "Census Bureau publishes sample data (a block group typically has a population\n",
      "of 600 to 3,000 people).\n",
      "\n",
      "It can be downloaded/loaded using the\n",
      ":func:`sklearn.datasets.fetch_california_housing` function.\n",
      "\n",
      ".. topic:: References\n",
      "\n",
      "    - Pace, R. Kelley and Ronald Barry, Sparse Spatial Autoregressions,\n",
      "      Statistics and Probability Letters, 33 (1997) 291-297\n",
      "\n"
     ]
    }
   ],
   "source": [
    "print(housing.DESCR)"
   ]
  },
  {
   "cell_type": "code",
   "execution_count": 6,
   "metadata": {
    "colab": {
     "base_uri": "https://localhost:8080/"
    },
    "id": "SqqPTqBAYZCP",
    "outputId": "456a24a2-02d6-413b-e516-f621800ade43"
   },
   "outputs": [
    {
     "name": "stdout",
     "output_type": "stream",
     "text": [
      "['MedInc', 'HouseAge', 'AveRooms', 'AveBedrms', 'Population', 'AveOccup', 'Latitude', 'Longitude']\n"
     ]
    }
   ],
   "source": [
    "print(housing.feature_names)"
   ]
  },
  {
   "cell_type": "code",
   "execution_count": 7,
   "metadata": {
    "colab": {
     "base_uri": "https://localhost:8080/"
    },
    "id": "R8_b5bog7CP0",
    "outputId": "a7e28b00-c00d-4548-e88b-bd39c7ab3db0"
   },
   "outputs": [
    {
     "name": "stdout",
     "output_type": "stream",
     "text": [
      "['MedHouseVal']\n"
     ]
    }
   ],
   "source": [
    "print(housing.target_names)"
   ]
  },
  {
   "cell_type": "code",
   "execution_count": 8,
   "metadata": {
    "colab": {
     "base_uri": "https://localhost:8080/"
    },
    "id": "sjgLgY507MUa",
    "outputId": "8806e8b6-0ada-4d49-db74-57c883194512"
   },
   "outputs": [
    {
     "data": {
      "text/plain": [
       "{'data': array([[   8.3252    ,   41.        ,    6.98412698, ...,    2.55555556,\n",
       "           37.88      , -122.23      ],\n",
       "        [   8.3014    ,   21.        ,    6.23813708, ...,    2.10984183,\n",
       "           37.86      , -122.22      ],\n",
       "        [   7.2574    ,   52.        ,    8.28813559, ...,    2.80225989,\n",
       "           37.85      , -122.24      ],\n",
       "        ...,\n",
       "        [   1.7       ,   17.        ,    5.20554273, ...,    2.3256351 ,\n",
       "           39.43      , -121.22      ],\n",
       "        [   1.8672    ,   18.        ,    5.32951289, ...,    2.12320917,\n",
       "           39.43      , -121.32      ],\n",
       "        [   2.3886    ,   16.        ,    5.25471698, ...,    2.61698113,\n",
       "           39.37      , -121.24      ]]),\n",
       " 'target': array([4.526, 3.585, 3.521, ..., 0.923, 0.847, 0.894]),\n",
       " 'frame': None,\n",
       " 'target_names': ['MedHouseVal'],\n",
       " 'feature_names': ['MedInc',\n",
       "  'HouseAge',\n",
       "  'AveRooms',\n",
       "  'AveBedrms',\n",
       "  'Population',\n",
       "  'AveOccup',\n",
       "  'Latitude',\n",
       "  'Longitude'],\n",
       " 'DESCR': '.. _california_housing_dataset:\\n\\nCalifornia Housing dataset\\n--------------------------\\n\\n**Data Set Characteristics:**\\n\\n    :Number of Instances: 20640\\n\\n    :Number of Attributes: 8 numeric, predictive attributes and the target\\n\\n    :Attribute Information:\\n        - MedInc        median income in block\\n        - HouseAge      median house age in block\\n        - AveRooms      average number of rooms\\n        - AveBedrms     average number of bedrooms\\n        - Population    block population\\n        - AveOccup      average house occupancy\\n        - Latitude      house block latitude\\n        - Longitude     house block longitude\\n\\n    :Missing Attribute Values: None\\n\\nThis dataset was obtained from the StatLib repository.\\nhttp://lib.stat.cmu.edu/datasets/\\n\\nThe target variable is the median house value for California districts.\\n\\nThis dataset was derived from the 1990 U.S. census, using one row per census\\nblock group. A block group is the smallest geographical unit for which the U.S.\\nCensus Bureau publishes sample data (a block group typically has a population\\nof 600 to 3,000 people).\\n\\nIt can be downloaded/loaded using the\\n:func:`sklearn.datasets.fetch_california_housing` function.\\n\\n.. topic:: References\\n\\n    - Pace, R. Kelley and Ronald Barry, Sparse Spatial Autoregressions,\\n      Statistics and Probability Letters, 33 (1997) 291-297\\n'}"
      ]
     },
     "execution_count": 8,
     "metadata": {},
     "output_type": "execute_result"
    }
   ],
   "source": [
    "housing"
   ]
  },
  {
   "cell_type": "markdown",
   "metadata": {
    "id": "-i94f_qOYxub"
   },
   "source": [
    "## Preparing The Dataset"
   ]
  },
  {
   "cell_type": "code",
   "execution_count": 9,
   "metadata": {
    "id": "dEaKoqbsYhOp"
   },
   "outputs": [],
   "source": [
    "dataset = pd.DataFrame(housing.data, columns = housing.feature_names)"
   ]
  },
  {
   "cell_type": "code",
   "execution_count": 10,
   "metadata": {
    "colab": {
     "base_uri": "https://localhost:8080/",
     "height": 488
    },
    "id": "6Ty79xiPYwtq",
    "outputId": "89fe2e99-21ce-4a24-bb7a-4537d4a9a150"
   },
   "outputs": [
    {
     "data": {
      "text/html": [
       "<div>\n",
       "<style scoped>\n",
       "    .dataframe tbody tr th:only-of-type {\n",
       "        vertical-align: middle;\n",
       "    }\n",
       "\n",
       "    .dataframe tbody tr th {\n",
       "        vertical-align: top;\n",
       "    }\n",
       "\n",
       "    .dataframe thead th {\n",
       "        text-align: right;\n",
       "    }\n",
       "</style>\n",
       "<table border=\"1\" class=\"dataframe\">\n",
       "  <thead>\n",
       "    <tr style=\"text-align: right;\">\n",
       "      <th></th>\n",
       "      <th>MedInc</th>\n",
       "      <th>HouseAge</th>\n",
       "      <th>AveRooms</th>\n",
       "      <th>AveBedrms</th>\n",
       "      <th>Population</th>\n",
       "      <th>AveOccup</th>\n",
       "      <th>Latitude</th>\n",
       "      <th>Longitude</th>\n",
       "    </tr>\n",
       "  </thead>\n",
       "  <tbody>\n",
       "    <tr>\n",
       "      <th>0</th>\n",
       "      <td>8.3252</td>\n",
       "      <td>41.0</td>\n",
       "      <td>6.984127</td>\n",
       "      <td>1.023810</td>\n",
       "      <td>322.0</td>\n",
       "      <td>2.555556</td>\n",
       "      <td>37.88</td>\n",
       "      <td>-122.23</td>\n",
       "    </tr>\n",
       "    <tr>\n",
       "      <th>1</th>\n",
       "      <td>8.3014</td>\n",
       "      <td>21.0</td>\n",
       "      <td>6.238137</td>\n",
       "      <td>0.971880</td>\n",
       "      <td>2401.0</td>\n",
       "      <td>2.109842</td>\n",
       "      <td>37.86</td>\n",
       "      <td>-122.22</td>\n",
       "    </tr>\n",
       "    <tr>\n",
       "      <th>2</th>\n",
       "      <td>7.2574</td>\n",
       "      <td>52.0</td>\n",
       "      <td>8.288136</td>\n",
       "      <td>1.073446</td>\n",
       "      <td>496.0</td>\n",
       "      <td>2.802260</td>\n",
       "      <td>37.85</td>\n",
       "      <td>-122.24</td>\n",
       "    </tr>\n",
       "    <tr>\n",
       "      <th>3</th>\n",
       "      <td>5.6431</td>\n",
       "      <td>52.0</td>\n",
       "      <td>5.817352</td>\n",
       "      <td>1.073059</td>\n",
       "      <td>558.0</td>\n",
       "      <td>2.547945</td>\n",
       "      <td>37.85</td>\n",
       "      <td>-122.25</td>\n",
       "    </tr>\n",
       "    <tr>\n",
       "      <th>4</th>\n",
       "      <td>3.8462</td>\n",
       "      <td>52.0</td>\n",
       "      <td>6.281853</td>\n",
       "      <td>1.081081</td>\n",
       "      <td>565.0</td>\n",
       "      <td>2.181467</td>\n",
       "      <td>37.85</td>\n",
       "      <td>-122.25</td>\n",
       "    </tr>\n",
       "    <tr>\n",
       "      <th>...</th>\n",
       "      <td>...</td>\n",
       "      <td>...</td>\n",
       "      <td>...</td>\n",
       "      <td>...</td>\n",
       "      <td>...</td>\n",
       "      <td>...</td>\n",
       "      <td>...</td>\n",
       "      <td>...</td>\n",
       "    </tr>\n",
       "    <tr>\n",
       "      <th>20635</th>\n",
       "      <td>1.5603</td>\n",
       "      <td>25.0</td>\n",
       "      <td>5.045455</td>\n",
       "      <td>1.133333</td>\n",
       "      <td>845.0</td>\n",
       "      <td>2.560606</td>\n",
       "      <td>39.48</td>\n",
       "      <td>-121.09</td>\n",
       "    </tr>\n",
       "    <tr>\n",
       "      <th>20636</th>\n",
       "      <td>2.5568</td>\n",
       "      <td>18.0</td>\n",
       "      <td>6.114035</td>\n",
       "      <td>1.315789</td>\n",
       "      <td>356.0</td>\n",
       "      <td>3.122807</td>\n",
       "      <td>39.49</td>\n",
       "      <td>-121.21</td>\n",
       "    </tr>\n",
       "    <tr>\n",
       "      <th>20637</th>\n",
       "      <td>1.7000</td>\n",
       "      <td>17.0</td>\n",
       "      <td>5.205543</td>\n",
       "      <td>1.120092</td>\n",
       "      <td>1007.0</td>\n",
       "      <td>2.325635</td>\n",
       "      <td>39.43</td>\n",
       "      <td>-121.22</td>\n",
       "    </tr>\n",
       "    <tr>\n",
       "      <th>20638</th>\n",
       "      <td>1.8672</td>\n",
       "      <td>18.0</td>\n",
       "      <td>5.329513</td>\n",
       "      <td>1.171920</td>\n",
       "      <td>741.0</td>\n",
       "      <td>2.123209</td>\n",
       "      <td>39.43</td>\n",
       "      <td>-121.32</td>\n",
       "    </tr>\n",
       "    <tr>\n",
       "      <th>20639</th>\n",
       "      <td>2.3886</td>\n",
       "      <td>16.0</td>\n",
       "      <td>5.254717</td>\n",
       "      <td>1.162264</td>\n",
       "      <td>1387.0</td>\n",
       "      <td>2.616981</td>\n",
       "      <td>39.37</td>\n",
       "      <td>-121.24</td>\n",
       "    </tr>\n",
       "  </tbody>\n",
       "</table>\n",
       "<p>20640 rows × 8 columns</p>\n",
       "</div>"
      ],
      "text/plain": [
       "       MedInc  HouseAge  AveRooms  AveBedrms  Population  AveOccup  Latitude  \\\n",
       "0      8.3252      41.0  6.984127   1.023810       322.0  2.555556     37.88   \n",
       "1      8.3014      21.0  6.238137   0.971880      2401.0  2.109842     37.86   \n",
       "2      7.2574      52.0  8.288136   1.073446       496.0  2.802260     37.85   \n",
       "3      5.6431      52.0  5.817352   1.073059       558.0  2.547945     37.85   \n",
       "4      3.8462      52.0  6.281853   1.081081       565.0  2.181467     37.85   \n",
       "...       ...       ...       ...        ...         ...       ...       ...   \n",
       "20635  1.5603      25.0  5.045455   1.133333       845.0  2.560606     39.48   \n",
       "20636  2.5568      18.0  6.114035   1.315789       356.0  3.122807     39.49   \n",
       "20637  1.7000      17.0  5.205543   1.120092      1007.0  2.325635     39.43   \n",
       "20638  1.8672      18.0  5.329513   1.171920       741.0  2.123209     39.43   \n",
       "20639  2.3886      16.0  5.254717   1.162264      1387.0  2.616981     39.37   \n",
       "\n",
       "       Longitude  \n",
       "0        -122.23  \n",
       "1        -122.22  \n",
       "2        -122.24  \n",
       "3        -122.25  \n",
       "4        -122.25  \n",
       "...          ...  \n",
       "20635    -121.09  \n",
       "20636    -121.21  \n",
       "20637    -121.22  \n",
       "20638    -121.32  \n",
       "20639    -121.24  \n",
       "\n",
       "[20640 rows x 8 columns]"
      ]
     },
     "execution_count": 10,
     "metadata": {},
     "output_type": "execute_result"
    }
   ],
   "source": [
    "dataset"
   ]
  },
  {
   "cell_type": "code",
   "execution_count": 11,
   "metadata": {
    "id": "V0NaGmnZY8om"
   },
   "outputs": [],
   "source": [
    "dataset['Price'] = housing.target"
   ]
  },
  {
   "cell_type": "code",
   "execution_count": 12,
   "metadata": {
    "colab": {
     "base_uri": "https://localhost:8080/",
     "height": 270
    },
    "id": "VUzyRm42ZQYS",
    "outputId": "8866a1a4-4ea6-4283-a781-64e2331f9647"
   },
   "outputs": [
    {
     "data": {
      "text/html": [
       "<div>\n",
       "<style scoped>\n",
       "    .dataframe tbody tr th:only-of-type {\n",
       "        vertical-align: middle;\n",
       "    }\n",
       "\n",
       "    .dataframe tbody tr th {\n",
       "        vertical-align: top;\n",
       "    }\n",
       "\n",
       "    .dataframe thead th {\n",
       "        text-align: right;\n",
       "    }\n",
       "</style>\n",
       "<table border=\"1\" class=\"dataframe\">\n",
       "  <thead>\n",
       "    <tr style=\"text-align: right;\">\n",
       "      <th></th>\n",
       "      <th>MedInc</th>\n",
       "      <th>HouseAge</th>\n",
       "      <th>AveRooms</th>\n",
       "      <th>AveBedrms</th>\n",
       "      <th>Population</th>\n",
       "      <th>AveOccup</th>\n",
       "      <th>Latitude</th>\n",
       "      <th>Longitude</th>\n",
       "      <th>Price</th>\n",
       "    </tr>\n",
       "  </thead>\n",
       "  <tbody>\n",
       "    <tr>\n",
       "      <th>0</th>\n",
       "      <td>8.3252</td>\n",
       "      <td>41.0</td>\n",
       "      <td>6.984127</td>\n",
       "      <td>1.023810</td>\n",
       "      <td>322.0</td>\n",
       "      <td>2.555556</td>\n",
       "      <td>37.88</td>\n",
       "      <td>-122.23</td>\n",
       "      <td>4.526</td>\n",
       "    </tr>\n",
       "    <tr>\n",
       "      <th>1</th>\n",
       "      <td>8.3014</td>\n",
       "      <td>21.0</td>\n",
       "      <td>6.238137</td>\n",
       "      <td>0.971880</td>\n",
       "      <td>2401.0</td>\n",
       "      <td>2.109842</td>\n",
       "      <td>37.86</td>\n",
       "      <td>-122.22</td>\n",
       "      <td>3.585</td>\n",
       "    </tr>\n",
       "    <tr>\n",
       "      <th>2</th>\n",
       "      <td>7.2574</td>\n",
       "      <td>52.0</td>\n",
       "      <td>8.288136</td>\n",
       "      <td>1.073446</td>\n",
       "      <td>496.0</td>\n",
       "      <td>2.802260</td>\n",
       "      <td>37.85</td>\n",
       "      <td>-122.24</td>\n",
       "      <td>3.521</td>\n",
       "    </tr>\n",
       "    <tr>\n",
       "      <th>3</th>\n",
       "      <td>5.6431</td>\n",
       "      <td>52.0</td>\n",
       "      <td>5.817352</td>\n",
       "      <td>1.073059</td>\n",
       "      <td>558.0</td>\n",
       "      <td>2.547945</td>\n",
       "      <td>37.85</td>\n",
       "      <td>-122.25</td>\n",
       "      <td>3.413</td>\n",
       "    </tr>\n",
       "    <tr>\n",
       "      <th>4</th>\n",
       "      <td>3.8462</td>\n",
       "      <td>52.0</td>\n",
       "      <td>6.281853</td>\n",
       "      <td>1.081081</td>\n",
       "      <td>565.0</td>\n",
       "      <td>2.181467</td>\n",
       "      <td>37.85</td>\n",
       "      <td>-122.25</td>\n",
       "      <td>3.422</td>\n",
       "    </tr>\n",
       "  </tbody>\n",
       "</table>\n",
       "</div>"
      ],
      "text/plain": [
       "   MedInc  HouseAge  AveRooms  AveBedrms  Population  AveOccup  Latitude  \\\n",
       "0  8.3252      41.0  6.984127   1.023810       322.0  2.555556     37.88   \n",
       "1  8.3014      21.0  6.238137   0.971880      2401.0  2.109842     37.86   \n",
       "2  7.2574      52.0  8.288136   1.073446       496.0  2.802260     37.85   \n",
       "3  5.6431      52.0  5.817352   1.073059       558.0  2.547945     37.85   \n",
       "4  3.8462      52.0  6.281853   1.081081       565.0  2.181467     37.85   \n",
       "\n",
       "   Longitude  Price  \n",
       "0    -122.23  4.526  \n",
       "1    -122.22  3.585  \n",
       "2    -122.24  3.521  \n",
       "3    -122.25  3.413  \n",
       "4    -122.25  3.422  "
      ]
     },
     "execution_count": 12,
     "metadata": {},
     "output_type": "execute_result"
    }
   ],
   "source": [
    "dataset.head()"
   ]
  },
  {
   "cell_type": "markdown",
   "metadata": {
    "id": "66eHMm1KZYpH"
   },
   "source": [
    "## Exploratory Data Analysis"
   ]
  },
  {
   "cell_type": "code",
   "execution_count": 13,
   "metadata": {
    "colab": {
     "base_uri": "https://localhost:8080/"
    },
    "id": "6uyKpM0pZUrb",
    "outputId": "128293e8-a489-42ce-e844-93cdb2b79aa4"
   },
   "outputs": [
    {
     "name": "stdout",
     "output_type": "stream",
     "text": [
      "<class 'pandas.core.frame.DataFrame'>\n",
      "RangeIndex: 20640 entries, 0 to 20639\n",
      "Data columns (total 9 columns):\n",
      " #   Column      Non-Null Count  Dtype  \n",
      "---  ------      --------------  -----  \n",
      " 0   MedInc      20640 non-null  float64\n",
      " 1   HouseAge    20640 non-null  float64\n",
      " 2   AveRooms    20640 non-null  float64\n",
      " 3   AveBedrms   20640 non-null  float64\n",
      " 4   Population  20640 non-null  float64\n",
      " 5   AveOccup    20640 non-null  float64\n",
      " 6   Latitude    20640 non-null  float64\n",
      " 7   Longitude   20640 non-null  float64\n",
      " 8   Price       20640 non-null  float64\n",
      "dtypes: float64(9)\n",
      "memory usage: 1.4 MB\n"
     ]
    }
   ],
   "source": [
    "dataset.info()"
   ]
  },
  {
   "cell_type": "code",
   "execution_count": 14,
   "metadata": {
    "colab": {
     "base_uri": "https://localhost:8080/",
     "height": 364
    },
    "id": "vOjP0WrJZc2u",
    "outputId": "7bf35ff3-73a1-4c3c-a9f9-2cc4ff38f7a8"
   },
   "outputs": [
    {
     "data": {
      "text/html": [
       "<div>\n",
       "<style scoped>\n",
       "    .dataframe tbody tr th:only-of-type {\n",
       "        vertical-align: middle;\n",
       "    }\n",
       "\n",
       "    .dataframe tbody tr th {\n",
       "        vertical-align: top;\n",
       "    }\n",
       "\n",
       "    .dataframe thead th {\n",
       "        text-align: right;\n",
       "    }\n",
       "</style>\n",
       "<table border=\"1\" class=\"dataframe\">\n",
       "  <thead>\n",
       "    <tr style=\"text-align: right;\">\n",
       "      <th></th>\n",
       "      <th>MedInc</th>\n",
       "      <th>HouseAge</th>\n",
       "      <th>AveRooms</th>\n",
       "      <th>AveBedrms</th>\n",
       "      <th>Population</th>\n",
       "      <th>AveOccup</th>\n",
       "      <th>Latitude</th>\n",
       "      <th>Longitude</th>\n",
       "      <th>Price</th>\n",
       "    </tr>\n",
       "  </thead>\n",
       "  <tbody>\n",
       "    <tr>\n",
       "      <th>count</th>\n",
       "      <td>20640.000000</td>\n",
       "      <td>20640.000000</td>\n",
       "      <td>20640.000000</td>\n",
       "      <td>20640.000000</td>\n",
       "      <td>20640.000000</td>\n",
       "      <td>20640.000000</td>\n",
       "      <td>20640.000000</td>\n",
       "      <td>20640.000000</td>\n",
       "      <td>20640.000000</td>\n",
       "    </tr>\n",
       "    <tr>\n",
       "      <th>mean</th>\n",
       "      <td>3.870671</td>\n",
       "      <td>28.639486</td>\n",
       "      <td>5.429000</td>\n",
       "      <td>1.096675</td>\n",
       "      <td>1425.476744</td>\n",
       "      <td>3.070655</td>\n",
       "      <td>35.631861</td>\n",
       "      <td>-119.569704</td>\n",
       "      <td>2.068558</td>\n",
       "    </tr>\n",
       "    <tr>\n",
       "      <th>std</th>\n",
       "      <td>1.899822</td>\n",
       "      <td>12.585558</td>\n",
       "      <td>2.474173</td>\n",
       "      <td>0.473911</td>\n",
       "      <td>1132.462122</td>\n",
       "      <td>10.386050</td>\n",
       "      <td>2.135952</td>\n",
       "      <td>2.003532</td>\n",
       "      <td>1.153956</td>\n",
       "    </tr>\n",
       "    <tr>\n",
       "      <th>min</th>\n",
       "      <td>0.499900</td>\n",
       "      <td>1.000000</td>\n",
       "      <td>0.846154</td>\n",
       "      <td>0.333333</td>\n",
       "      <td>3.000000</td>\n",
       "      <td>0.692308</td>\n",
       "      <td>32.540000</td>\n",
       "      <td>-124.350000</td>\n",
       "      <td>0.149990</td>\n",
       "    </tr>\n",
       "    <tr>\n",
       "      <th>25%</th>\n",
       "      <td>2.563400</td>\n",
       "      <td>18.000000</td>\n",
       "      <td>4.440716</td>\n",
       "      <td>1.006079</td>\n",
       "      <td>787.000000</td>\n",
       "      <td>2.429741</td>\n",
       "      <td>33.930000</td>\n",
       "      <td>-121.800000</td>\n",
       "      <td>1.196000</td>\n",
       "    </tr>\n",
       "    <tr>\n",
       "      <th>50%</th>\n",
       "      <td>3.534800</td>\n",
       "      <td>29.000000</td>\n",
       "      <td>5.229129</td>\n",
       "      <td>1.048780</td>\n",
       "      <td>1166.000000</td>\n",
       "      <td>2.818116</td>\n",
       "      <td>34.260000</td>\n",
       "      <td>-118.490000</td>\n",
       "      <td>1.797000</td>\n",
       "    </tr>\n",
       "    <tr>\n",
       "      <th>75%</th>\n",
       "      <td>4.743250</td>\n",
       "      <td>37.000000</td>\n",
       "      <td>6.052381</td>\n",
       "      <td>1.099526</td>\n",
       "      <td>1725.000000</td>\n",
       "      <td>3.282261</td>\n",
       "      <td>37.710000</td>\n",
       "      <td>-118.010000</td>\n",
       "      <td>2.647250</td>\n",
       "    </tr>\n",
       "    <tr>\n",
       "      <th>max</th>\n",
       "      <td>15.000100</td>\n",
       "      <td>52.000000</td>\n",
       "      <td>141.909091</td>\n",
       "      <td>34.066667</td>\n",
       "      <td>35682.000000</td>\n",
       "      <td>1243.333333</td>\n",
       "      <td>41.950000</td>\n",
       "      <td>-114.310000</td>\n",
       "      <td>5.000010</td>\n",
       "    </tr>\n",
       "  </tbody>\n",
       "</table>\n",
       "</div>"
      ],
      "text/plain": [
       "             MedInc      HouseAge      AveRooms     AveBedrms    Population  \\\n",
       "count  20640.000000  20640.000000  20640.000000  20640.000000  20640.000000   \n",
       "mean       3.870671     28.639486      5.429000      1.096675   1425.476744   \n",
       "std        1.899822     12.585558      2.474173      0.473911   1132.462122   \n",
       "min        0.499900      1.000000      0.846154      0.333333      3.000000   \n",
       "25%        2.563400     18.000000      4.440716      1.006079    787.000000   \n",
       "50%        3.534800     29.000000      5.229129      1.048780   1166.000000   \n",
       "75%        4.743250     37.000000      6.052381      1.099526   1725.000000   \n",
       "max       15.000100     52.000000    141.909091     34.066667  35682.000000   \n",
       "\n",
       "           AveOccup      Latitude     Longitude         Price  \n",
       "count  20640.000000  20640.000000  20640.000000  20640.000000  \n",
       "mean       3.070655     35.631861   -119.569704      2.068558  \n",
       "std       10.386050      2.135952      2.003532      1.153956  \n",
       "min        0.692308     32.540000   -124.350000      0.149990  \n",
       "25%        2.429741     33.930000   -121.800000      1.196000  \n",
       "50%        2.818116     34.260000   -118.490000      1.797000  \n",
       "75%        3.282261     37.710000   -118.010000      2.647250  \n",
       "max     1243.333333     41.950000   -114.310000      5.000010  "
      ]
     },
     "execution_count": 14,
     "metadata": {},
     "output_type": "execute_result"
    }
   ],
   "source": [
    "# Summarizing the stats of the data\n",
    "dataset.describe()"
   ]
  },
  {
   "cell_type": "code",
   "execution_count": 15,
   "metadata": {
    "colab": {
     "base_uri": "https://localhost:8080/"
    },
    "id": "p50e58PHZrDY",
    "outputId": "3d1541cd-37b3-432a-bb4e-4e5dfddbfba1"
   },
   "outputs": [
    {
     "data": {
      "text/plain": [
       "MedInc        0\n",
       "HouseAge      0\n",
       "AveRooms      0\n",
       "AveBedrms     0\n",
       "Population    0\n",
       "AveOccup      0\n",
       "Latitude      0\n",
       "Longitude     0\n",
       "Price         0\n",
       "dtype: int64"
      ]
     },
     "execution_count": 15,
     "metadata": {},
     "output_type": "execute_result"
    }
   ],
   "source": [
    "# Check missing values\n",
    "dataset.isnull().sum()"
   ]
  },
  {
   "cell_type": "markdown",
   "metadata": {
    "id": "mJlHfyMXZ6tU"
   },
   "source": [
    "### Correlation\n",
    "Also known as the Pearson coefficient\n",
    "its a value between +1 and -1\n",
    "\n",
    "* +1 means two attributes are highly correlated\n",
    "* 0 means two attributes are not at all correlated\n",
    "* -1 means two attributes are inversely correlated\n",
    "\n",
    "\n",
    "The correlation coefficient only measures linear relationships"
   ]
  },
  {
   "cell_type": "code",
   "execution_count": 16,
   "metadata": {
    "colab": {
     "base_uri": "https://localhost:8080/",
     "height": 396
    },
    "id": "76uShQcuZza2",
    "outputId": "be775934-59e4-4e03-967d-4e56e37e2273"
   },
   "outputs": [
    {
     "data": {
      "text/html": [
       "<div>\n",
       "<style scoped>\n",
       "    .dataframe tbody tr th:only-of-type {\n",
       "        vertical-align: middle;\n",
       "    }\n",
       "\n",
       "    .dataframe tbody tr th {\n",
       "        vertical-align: top;\n",
       "    }\n",
       "\n",
       "    .dataframe thead th {\n",
       "        text-align: right;\n",
       "    }\n",
       "</style>\n",
       "<table border=\"1\" class=\"dataframe\">\n",
       "  <thead>\n",
       "    <tr style=\"text-align: right;\">\n",
       "      <th></th>\n",
       "      <th>MedInc</th>\n",
       "      <th>HouseAge</th>\n",
       "      <th>AveRooms</th>\n",
       "      <th>AveBedrms</th>\n",
       "      <th>Population</th>\n",
       "      <th>AveOccup</th>\n",
       "      <th>Latitude</th>\n",
       "      <th>Longitude</th>\n",
       "      <th>Price</th>\n",
       "    </tr>\n",
       "  </thead>\n",
       "  <tbody>\n",
       "    <tr>\n",
       "      <th>MedInc</th>\n",
       "      <td>1.000000</td>\n",
       "      <td>-0.119034</td>\n",
       "      <td>0.326895</td>\n",
       "      <td>-0.062040</td>\n",
       "      <td>0.004834</td>\n",
       "      <td>0.018766</td>\n",
       "      <td>-0.079809</td>\n",
       "      <td>-0.015176</td>\n",
       "      <td>0.688075</td>\n",
       "    </tr>\n",
       "    <tr>\n",
       "      <th>HouseAge</th>\n",
       "      <td>-0.119034</td>\n",
       "      <td>1.000000</td>\n",
       "      <td>-0.153277</td>\n",
       "      <td>-0.077747</td>\n",
       "      <td>-0.296244</td>\n",
       "      <td>0.013191</td>\n",
       "      <td>0.011173</td>\n",
       "      <td>-0.108197</td>\n",
       "      <td>0.105623</td>\n",
       "    </tr>\n",
       "    <tr>\n",
       "      <th>AveRooms</th>\n",
       "      <td>0.326895</td>\n",
       "      <td>-0.153277</td>\n",
       "      <td>1.000000</td>\n",
       "      <td>0.847621</td>\n",
       "      <td>-0.072213</td>\n",
       "      <td>-0.004852</td>\n",
       "      <td>0.106389</td>\n",
       "      <td>-0.027540</td>\n",
       "      <td>0.151948</td>\n",
       "    </tr>\n",
       "    <tr>\n",
       "      <th>AveBedrms</th>\n",
       "      <td>-0.062040</td>\n",
       "      <td>-0.077747</td>\n",
       "      <td>0.847621</td>\n",
       "      <td>1.000000</td>\n",
       "      <td>-0.066197</td>\n",
       "      <td>-0.006181</td>\n",
       "      <td>0.069721</td>\n",
       "      <td>0.013344</td>\n",
       "      <td>-0.046701</td>\n",
       "    </tr>\n",
       "    <tr>\n",
       "      <th>Population</th>\n",
       "      <td>0.004834</td>\n",
       "      <td>-0.296244</td>\n",
       "      <td>-0.072213</td>\n",
       "      <td>-0.066197</td>\n",
       "      <td>1.000000</td>\n",
       "      <td>0.069863</td>\n",
       "      <td>-0.108785</td>\n",
       "      <td>0.099773</td>\n",
       "      <td>-0.024650</td>\n",
       "    </tr>\n",
       "    <tr>\n",
       "      <th>AveOccup</th>\n",
       "      <td>0.018766</td>\n",
       "      <td>0.013191</td>\n",
       "      <td>-0.004852</td>\n",
       "      <td>-0.006181</td>\n",
       "      <td>0.069863</td>\n",
       "      <td>1.000000</td>\n",
       "      <td>0.002366</td>\n",
       "      <td>0.002476</td>\n",
       "      <td>-0.023737</td>\n",
       "    </tr>\n",
       "    <tr>\n",
       "      <th>Latitude</th>\n",
       "      <td>-0.079809</td>\n",
       "      <td>0.011173</td>\n",
       "      <td>0.106389</td>\n",
       "      <td>0.069721</td>\n",
       "      <td>-0.108785</td>\n",
       "      <td>0.002366</td>\n",
       "      <td>1.000000</td>\n",
       "      <td>-0.924664</td>\n",
       "      <td>-0.144160</td>\n",
       "    </tr>\n",
       "    <tr>\n",
       "      <th>Longitude</th>\n",
       "      <td>-0.015176</td>\n",
       "      <td>-0.108197</td>\n",
       "      <td>-0.027540</td>\n",
       "      <td>0.013344</td>\n",
       "      <td>0.099773</td>\n",
       "      <td>0.002476</td>\n",
       "      <td>-0.924664</td>\n",
       "      <td>1.000000</td>\n",
       "      <td>-0.045967</td>\n",
       "    </tr>\n",
       "    <tr>\n",
       "      <th>Price</th>\n",
       "      <td>0.688075</td>\n",
       "      <td>0.105623</td>\n",
       "      <td>0.151948</td>\n",
       "      <td>-0.046701</td>\n",
       "      <td>-0.024650</td>\n",
       "      <td>-0.023737</td>\n",
       "      <td>-0.144160</td>\n",
       "      <td>-0.045967</td>\n",
       "      <td>1.000000</td>\n",
       "    </tr>\n",
       "  </tbody>\n",
       "</table>\n",
       "</div>"
      ],
      "text/plain": [
       "              MedInc  HouseAge  AveRooms  AveBedrms  Population  AveOccup  \\\n",
       "MedInc      1.000000 -0.119034  0.326895  -0.062040    0.004834  0.018766   \n",
       "HouseAge   -0.119034  1.000000 -0.153277  -0.077747   -0.296244  0.013191   \n",
       "AveRooms    0.326895 -0.153277  1.000000   0.847621   -0.072213 -0.004852   \n",
       "AveBedrms  -0.062040 -0.077747  0.847621   1.000000   -0.066197 -0.006181   \n",
       "Population  0.004834 -0.296244 -0.072213  -0.066197    1.000000  0.069863   \n",
       "AveOccup    0.018766  0.013191 -0.004852  -0.006181    0.069863  1.000000   \n",
       "Latitude   -0.079809  0.011173  0.106389   0.069721   -0.108785  0.002366   \n",
       "Longitude  -0.015176 -0.108197 -0.027540   0.013344    0.099773  0.002476   \n",
       "Price       0.688075  0.105623  0.151948  -0.046701   -0.024650 -0.023737   \n",
       "\n",
       "            Latitude  Longitude     Price  \n",
       "MedInc     -0.079809  -0.015176  0.688075  \n",
       "HouseAge    0.011173  -0.108197  0.105623  \n",
       "AveRooms    0.106389  -0.027540  0.151948  \n",
       "AveBedrms   0.069721   0.013344 -0.046701  \n",
       "Population -0.108785   0.099773 -0.024650  \n",
       "AveOccup    0.002366   0.002476 -0.023737  \n",
       "Latitude    1.000000  -0.924664 -0.144160  \n",
       "Longitude  -0.924664   1.000000 -0.045967  \n",
       "Price      -0.144160  -0.045967  1.000000  "
      ]
     },
     "execution_count": 16,
     "metadata": {},
     "output_type": "execute_result"
    }
   ],
   "source": [
    "# Correlation: how the independant features and the target feature are correlated\n",
    "dataset.corr()"
   ]
  },
  {
   "cell_type": "code",
   "execution_count": 17,
   "metadata": {
    "id": "ePBTR0giajGV"
   },
   "outputs": [],
   "source": [
    "# Check the multi-collinearity: hight correlation betwenn independant features\n",
    "# -> Drop one feauture & leave the other\n"
   ]
  },
  {
   "cell_type": "code",
   "execution_count": 18,
   "metadata": {
    "colab": {
     "base_uri": "https://localhost:8080/",
     "height": 297
    },
    "id": "pOQmwdrKboDM",
    "outputId": "bd6e7087-cc5b-463e-afef-1610ee87acdc"
   },
   "outputs": [
    {
     "data": {
      "text/plain": [
       "Text(0, 0.5, 'Price')"
      ]
     },
     "execution_count": 18,
     "metadata": {},
     "output_type": "execute_result"
    },
    {
     "data": {
      "image/png": "[encoded data removed]",
      "text/plain": [
       "<Figure size 432x288 with 1 Axes>"
      ]
     },
     "metadata": {
      "needs_background": "light"
     },
     "output_type": "display_data"
    }
   ],
   "source": [
    "plt.scatter(dataset['MedInc'],dataset['Price'])\n",
    "plt.xlabel('median Income')\n",
    "plt.ylabel('Price')"
   ]
  },
  {
   "cell_type": "code",
   "execution_count": 19,
   "metadata": {
    "colab": {
     "base_uri": "https://localhost:8080/",
     "height": 310
    },
    "id": "shy8Fdu6_jpF",
    "outputId": "f84b67ee-09e8-4efb-87f9-c2cda9b32295"
   },
   "outputs": [
    {
     "data": {
      "image/png": "[encoded data removed]",
      "text/plain": [
       "<Figure size 432x288 with 1 Axes>"
      ]
     },
     "metadata": {
      "needs_background": "light"
     },
     "output_type": "display_data"
    }
   ],
   "source": [
    "import seaborn as sns\n",
    "sns.scatterplot(data=dataset, x=\"Longitude\", y=\"Latitude\",\n",
    "                size=\"Price\", hue=\"Price\",\n",
    "                palette=\"viridis\", alpha=0.5)\n",
    "plt.legend(title=\"Price\", bbox_to_anchor=(1.05, 0.95),\n",
    "           loc=\"upper left\")\n",
    "_ = plt.title(\"Median house value depending of\\n their spatial location\")"
   ]
  },
  {
   "cell_type": "markdown",
   "metadata": {
    "id": "88aEiX0Zv5G1"
   },
   "source": [
    "If you are not familiar with the state of California, it is interesting to notice that all datapoints show a graphical representation of this state. We note that the high-valued houses will be located on the coast, where the big cities from California are located: San Diego, Los Angeles, San Jose, or San Francisco."
   ]
  },
  {
   "cell_type": "code",
   "execution_count": 20,
   "metadata": {
    "colab": {
     "base_uri": "https://localhost:8080/",
     "height": 351
    },
    "id": "esMSpgibInIW",
    "outputId": "f2cc7ca0-f785-4eb3-de70-a853f7649061"
   },
   "outputs": [
    {
     "data": {
      "text/plain": [
       "Text(0, 0.5, 'Latitude')"
      ]
     },
     "execution_count": 20,
     "metadata": {},
     "output_type": "execute_result"
    },
    {
     "data": {
      "image/png": "[encoded data removed]",
      "text/plain": [
       "<Figure size 1080x504 with 2 Axes>"
      ]
     },
     "metadata": {
      "needs_background": "light"
     },
     "output_type": "display_data"
    }
   ],
   "source": [
    "dataset.plot(kind=\"scatter\", x=\"Longitude\", y=\"Latitude\", alpha=0.4,\n",
    "            s=dataset[\"Population\"]/100, label=\"population\",\n",
    "            c=\"Price\", cmap=plt.get_cmap(\"jet\"), colorbar=True,\n",
    "            figsize=(15,7))\n",
    "plt.legend()\n",
    "plt.xlabel('Longitude')\n",
    "plt.ylabel('Latitude')"
   ]
  },
  {
   "cell_type": "markdown",
   "metadata": {
    "id": "yMVM46R7MuMx"
   },
   "source": [
    "* The radius of each circle represents the district’s population (option s)\n",
    "* The color represents the price (option c).\n",
    "* The predefined color map (option cmap) called jet,  ranges from blue (low values) to red (high prices)"
   ]
  },
  {
   "cell_type": "code",
   "execution_count": null,
   "metadata": {
    "colab": {
     "base_uri": "https://localhost:8080/",
     "height": 667
    },
    "id": "7R8ISerGbhqs",
    "outputId": "f06cf19d-ef25-4e6f-e1b5-43fb401d1a8e"
   },
   "outputs": [],
   "source": [
    "\n",
    "sns.pairplot(dataset)"
   ]
  },
  {
   "cell_type": "markdown",
   "metadata": {
    "id": "Vt1m9zuvUerR"
   },
   "source": [
    "### Regression Plots"
   ]
  },
  {
   "cell_type": "code",
   "execution_count": null,
   "metadata": {
    "colab": {
     "base_uri": "https://localhost:8080/",
     "height": 297
    },
    "id": "Z1fuG28ZcnG5",
    "outputId": "db33b704-a481-459f-da65-0b2492af87b4"
   },
   "outputs": [],
   "source": [
    "#Create a regression plot\n",
    "sns.regplot(x='MedInc',y='Price',data=dataset)"
   ]
  },
  {
   "cell_type": "code",
   "execution_count": null,
   "metadata": {
    "colab": {
     "base_uri": "https://localhost:8080/",
     "height": 297
    },
    "id": "ja3OR4Csc-oF",
    "outputId": "f95376d2-62c2-45d3-f43a-e86479b3734b"
   },
   "outputs": [],
   "source": [
    "sns.regplot(x='AveOccup',y='Price',data=dataset)"
   ]
  },
  {
   "cell_type": "code",
   "execution_count": null,
   "metadata": {
    "colab": {
     "base_uri": "https://localhost:8080/",
     "height": 812
    },
    "id": "HD4RHkxQdaBz",
    "outputId": "e05f1cea-20f6-47d3-bf5d-85e78e43e582"
   },
   "outputs": [],
   "source": [
    "dataset.hist(bins=60,figsize=(20,20))\n",
    "#plt.show()"
   ]
  },
  {
   "cell_type": "markdown",
   "metadata": {
    "id": "twIBoeq3NF-u"
   },
   "source": [
    "\n",
    "1. households - hmm, most districts have around 100-500 households. peak is around 4800\n",
    "2. housing median age - well, not very bell-shaped, at 35 and 15 are two peaks. are these years? max peak is at 50. does this mean major houses in each district are more than 50 years old?!?\n",
    "3. latitude - looks correct, at 34 and 37 degrees of latitude are major houses.\n",
    "4. longitude - the same, at -122 and -118 degrees are major houses\n",
    "5. median house value - hmm, this is what i need to predict. somewhat bell-shaped, at extreme right there is a surge, is y-axis dollars? does this mean most houses are above 500,000? \n",
    "6. median income - very bell-shaped, good distribution, but is this income in dollars? There is no income above 15 so some capping has been done. most people have income between 2-5\n",
    "7. population - most districts have population below 3000\n",
    "8. bedrooms - hmm, we have got bedrooms for a district? looks like most districts have between 300-600 bedrooms\n",
    "9. total rooms - again similar to the previous two. most districts have around 3000 rooms   \n",
    "\n"
   ]
  },
  {
   "cell_type": "markdown",
   "metadata": {
    "id": "JOcdjHiwmJ0c"
   },
   "source": [
    "### Advanced Analysis"
   ]
  },
  {
   "cell_type": "code",
   "execution_count": null,
   "metadata": {
    "colab": {
     "base_uri": "https://localhost:8080/"
    },
    "id": "nTwWLzjumJeS",
    "outputId": "ef61b134-80c0-4290-8dc5-81a2aa015330"
   },
   "outputs": [],
   "source": [
    "corr_matrix = dataset.corr()\n",
    "#get the correlation between the indepandant features & the output one in ASCE order\n",
    "corr_matrix[\"Price\"].sort_values(ascending=False)"
   ]
  },
  {
   "cell_type": "markdown",
   "metadata": {
    "id": "4FcRTQwt0HV7"
   },
   "source": [
    "⏩\n",
    "*   *The house price is highly correlated with the median income(where rich peaople live, the houses tend to be more expensive )*\n",
    "\n",
    "*   *Negative correlation between the price and the latitude. It significe that as you move up north increasing the latitude, the house prices decrease.\n",
    "We can conclude that houses in north are cheaper than the houses in the south of California.*\n",
    "\n"
   ]
  },
  {
   "cell_type": "markdown",
   "metadata": {
    "id": "OjwWYwObQWeL"
   },
   "source": [
    "# Pre-Processing"
   ]
  },
  {
   "cell_type": "markdown",
   "metadata": {
    "id": "iX_YyTReRN7V"
   },
   "source": [
    "## **Outliers**\n",
    "\n",
    "\n",
    "> 💡 Outliers are very different values—abnormally low or abnormally high—their presence can often skew the results of statistical analyses on the dataset. This could lead to less effective and less useful models.\n",
    "\n",
    "[Read more about **Outliers**](https://www.freecodecamp.org/news/how-to-detect-outliers-in-machine-learning/)\n",
    "\n"
   ]
  },
  {
   "cell_type": "markdown",
   "metadata": {
    "id": "s5-yWiEKdnmt"
   },
   "source": [
    "There are various ways to deal with outliers.\n",
    "1. ***Droping the outliers*** by appling some conditions on features.\n",
    "2. ***Marking the Outliers*** We can also mark the outliers and will not use that outliers in training the model.\n",
    "3. ***Rescaling the data*** We can not use upper two methods when we have less data points in that case we can not afford to drop or mark the outliers. Here we can rescale the data so that the outliers can be used."
   ]
  },
  {
   "cell_type": "markdown",
   "metadata": {
    "id": "mf_7TrTMQao7"
   },
   "source": [
    "In the previous histogram, there is a peak in the distribution of the attributes **houseAge** and **Price**, which signifies a limit on the attribute's maximum value. \n",
    "\n",
    "These might be caused by how the data was collected; e.g. the survey's choice 'Prefer not to say', '>= 52', or '>= 500,001'.\n",
    "\n",
    "\n",
    "\n",
    "[Scakling Data with outliers](https://scikit-learn.org/stable/auto_examples/preprocessing/plot_all_scaling.html)\n",
    "\n"
   ]
  },
  {
   "cell_type": "markdown",
   "metadata": {
    "id": "ULcwcWw32w8a"
   },
   "source": [
    "### Sclaers"
   ]
  },
  {
   "cell_type": "markdown",
   "metadata": {
    "id": "pcrOfq88dQSN"
   },
   "source": [
    "#### *RobustScaler* "
   ]
  },
  {
   "cell_type": "markdown",
   "metadata": {
    "id": "69b5L6aKj6tJ"
   },
   "source": [
    "> Unlike the scalers *( StandardScaler, MinMaxScaler, MaxAbsScaler )*, the centering and scaling statistics of **RobustScaler** are based on percentiles and are therefore not influenced by a small number of very large marginal outliers.\n",
    "\n"
   ]
  },
  {
   "cell_type": "code",
   "execution_count": null,
   "metadata": {
    "id": "_rLVy5Y65SIY"
   },
   "outputs": [],
   "source": [
    "from sklearn import preprocessing "
   ]
  },
  {
   "cell_type": "code",
   "execution_count": null,
   "metadata": {
    "id": "Ezhq9ajL5g2S"
   },
   "outputs": [],
   "source": [
    "scaler = preprocessing.RobustScaler(quantile_range=(25, 75)).fit_transform(dataset)\n",
    "dataset_scaled=pd.DataFrame(scaler, columns = dataset.columns)"
   ]
  },
  {
   "cell_type": "code",
   "execution_count": null,
   "metadata": {
    "colab": {
     "base_uri": "https://localhost:8080/",
     "height": 488
    },
    "id": "Rdrx11eH6K_A",
    "outputId": "6ecb4a0b-50ff-4002-9a2e-c28d01b90d65"
   },
   "outputs": [],
   "source": [
    "dataset_scaled"
   ]
  },
  {
   "cell_type": "markdown",
   "metadata": {
    "id": "9UEmNTYfmGI6"
   },
   "source": [
    "# Data partitioning: train set and test set"
   ]
  },
  {
   "cell_type": "markdown",
   "metadata": {
    "id": "VGbN4PtTidcn"
   },
   "source": [
    "We are using test_train_split to split the data. We have passed test_size as 0.33 which means 33% of data will be in the test part and rest will be in train part. Parameter random_state signifies the random splitting of data into the two parts. Finally we have printed the shape of test and train data."
   ]
  },
  {
   "cell_type": "code",
   "execution_count": null,
   "metadata": {
    "id": "BdYGNUXamHb6"
   },
   "outputs": [],
   "source": [
    "from sklearn.model_selection import train_test_split"
   ]
  },
  {
   "cell_type": "code",
   "execution_count": null,
   "metadata": {
    "id": "6OLXujV-gj_G"
   },
   "outputs": [],
   "source": [
    "X_train, X_test, y_train, y_test = train_test_split(dataset_scaled.loc[:, dataset_scaled.columns != 'Price'], dataset_scaled['Price'], test_size=0.3, random_state=66)"
   ]
  },
  {
   "cell_type": "code",
   "execution_count": null,
   "metadata": {
    "colab": {
     "base_uri": "https://localhost:8080/"
    },
    "id": "vXLXkX-iiQQa",
    "outputId": "a85349b2-e1f2-4d73-ac72-deffd9450889"
   },
   "outputs": [],
   "source": [
    "print(X_train.shape)\n",
    "print(X_test.shape)\n",
    "print(y_train.shape)\n",
    "print(y_test.shape)"
   ]
  },
  {
   "cell_type": "code",
   "execution_count": null,
   "metadata": {
    "colab": {
     "base_uri": "https://localhost:8080/",
     "height": 488
    },
    "id": "qTll0ZGShAiS",
    "outputId": "e73016ae-a6a9-4840-9363-0700cd0f5000"
   },
   "outputs": [],
   "source": [
    "X_train"
   ]
  },
  {
   "cell_type": "code",
   "execution_count": null,
   "metadata": {
    "colab": {
     "base_uri": "https://localhost:8080/",
     "height": 488
    },
    "id": "WUeN06_EhDXn",
    "outputId": "725a6859-b404-4935-99eb-7688b69b7c27"
   },
   "outputs": [],
   "source": [
    "X_test"
   ]
  },
  {
   "cell_type": "markdown",
   "metadata": {
    "id": "ZRDhkjVvixKd"
   },
   "source": [
    "# MODEL TRAINING"
   ]
  },
  {
   "cell_type": "markdown",
   "metadata": {
    "id": "P2dLLL5MjMj5"
   },
   "source": [
    "“Price” is the feature we are going to predict. It represnts the median house value for California districts, expressed in hundreds of thousands of dollars ($100,000).\n",
    "\n",
    "To do so, we're going to use different machine learning models for regression and compare theire performance. "
   ]
  },
  {
   "cell_type": "markdown",
   "metadata": {
    "id": "yRRST1WinPj9"
   },
   "source": [
    "\n",
    "## 1.   Linear regression\n"
   ]
  },
  {
   "cell_type": "markdown",
   "metadata": {
    "id": "m53mVHtFow5-"
   },
   "source": [
    "\n",
    "\n",
    "> The R2 score is a very important metric that is used to evaluate the performance of a regression-based machine learning model. It is pronounced as R squared and is also known as the coefficient of determination. It works by measuring the amount of variance in the predictions explained by the dataset.\n",
    "\n"
   ]
  },
  {
   "cell_type": "code",
   "execution_count": null,
   "metadata": {
    "colab": {
     "base_uri": "https://localhost:8080/"
    },
    "id": "O3m9g0uihoyt",
    "outputId": "e48dd24b-1416-48b6-f5ea-880d5aedbe00"
   },
   "outputs": [],
   "source": [
    "from sklearn.linear_model import LinearRegression\n",
    "\n",
    "linreg = LinearRegression()\n",
    "linreg.fit(X_train, y_train)\n",
    "\n",
    "l1 = linreg.score(X_train, y_train)\n",
    "l2 = linreg.score(X_test, y_test)\n",
    "\n",
    "print(\"R² of Linear Regression on training set: {:.3f}\".format(l1))\n",
    "print(\"R² of Linear Regression on test set: {:.3f}\".format(l2))"
   ]
  },
  {
   "cell_type": "code",
   "execution_count": null,
   "metadata": {
    "colab": {
     "base_uri": "https://localhost:8080/"
    },
    "id": "CeoAdyWbPkCE",
    "outputId": "e14d130f-676a-4b5d-bbe4-6847297fae19"
   },
   "outputs": [],
   "source": [
    "# Print the coefficients and the intercept\n",
    "print(linreg.coef_)"
   ]
  },
  {
   "cell_type": "markdown",
   "metadata": {
    "id": "uogMuOoqQSLU"
   },
   "source": [
    "*With the unit incrise in the MedInc value there is an increse of 6.7990 in the price value.*\n",
    "\n"
   ]
  },
  {
   "cell_type": "code",
   "execution_count": null,
   "metadata": {
    "colab": {
     "base_uri": "https://localhost:8080/"
    },
    "id": "8r7V_OI7QJfh",
    "outputId": "7bbce399-e8ce-4ae3-9846-c825c0f1850e"
   },
   "outputs": [],
   "source": [
    "print(linreg.intercept_)"
   ]
  },
  {
   "cell_type": "code",
   "execution_count": null,
   "metadata": {
    "colab": {
     "base_uri": "https://localhost:8080/"
    },
    "id": "2NMQrbIKQ_FJ",
    "outputId": "a83b8398-9810-4e6a-bed4-2b02e9349af4"
   },
   "outputs": [],
   "source": [
    "## on which parameters the model has been trained\n",
    "linreg.get_params()"
   ]
  },
  {
   "cell_type": "markdown",
   "metadata": {
    "id": "Hp28cBmPUYV8"
   },
   "source": [
    "\n",
    "## 2.   k-Nearest Neighbors Regressor\n",
    "\n"
   ]
  },
  {
   "cell_type": "markdown",
   "metadata": {
    "id": "Nq1YsEfTUff0"
   },
   "source": [
    "\n",
    "\n",
    "> The k-NN Regressor algorithm is arguably the simplest regression algorithm. Building the model consists only of storing the training data set. To make a prediction for a new data point, the algorithm finds the closest data points in the training data set — its “nearest neighbors.”\n",
    "\n"
   ]
  },
  {
   "cell_type": "markdown",
   "metadata": {
    "id": "L5LWsJIGVU8-"
   },
   "source": [
    "First, Let’s investigate whether we can confirm the connection between model complexity and R² (score):"
   ]
  },
  {
   "cell_type": "code",
   "execution_count": null,
   "metadata": {
    "colab": {
     "base_uri": "https://localhost:8080/",
     "height": 280
    },
    "id": "zyXXTvzdRJhK",
    "outputId": "74de83cc-405d-4925-b243-7a8c3de894d0"
   },
   "outputs": [],
   "source": [
    "from sklearn.neighbors import KNeighborsRegressor\n",
    "\n",
    "training_score = []\n",
    "test_score = []\n",
    "# try n_neighbors from 1 to 10\n",
    "neighbors_settings = range(1, 11)\n",
    "for n_neighbors in neighbors_settings:\n",
    " # build the model\n",
    " knn = KNeighborsRegressor(n_neighbors=n_neighbors)\n",
    " knn.fit(X_train, y_train)\n",
    " # record training set score\n",
    " training_score.append(knn.score(X_train, y_train))\n",
    " # record test set score\n",
    " test_score.append(knn.score(X_test, y_test))\n",
    "\n",
    "plt.plot(neighbors_settings, training_score, label=\"training score\")\n",
    "plt.plot(neighbors_settings, test_score, label=\"test score\")\n",
    "plt.ylabel(\"R²\")\n",
    "plt.xlabel(\"n_neighbors\")\n",
    "plt.legend()\n",
    "plt.savefig(\"knn_compare_model\")"
   ]
  },
  {
   "cell_type": "markdown",
   "metadata": {
    "id": "UH_S_4ivU8w_"
   },
   "source": [
    "The above plot shows the training and test set R² on the y-axis against the setting of n_neighbors on the x-axis. Considering if we choose one single nearest neighbor, the prediction on the training set is perfect.\n",
    "\n",
    "But when more neighbors are considered, the training set R² drops, indicating that using the single nearest neighbor leads to a model that is too complex. The best performance is somewhere around 10 neighbors."
   ]
  },
  {
   "cell_type": "markdown",
   "metadata": {
    "id": "BYLS8RAXVDOG"
   },
   "source": [
    "*The plot suggests that we should choose n_neighbors=10. Here we are:*"
   ]
  },
  {
   "cell_type": "code",
   "execution_count": null,
   "metadata": {
    "colab": {
     "base_uri": "https://localhost:8080/"
    },
    "id": "uTdK7PbwVGeA",
    "outputId": "94b06d25-2fcd-4758-f77d-4a7bc13ae256"
   },
   "outputs": [],
   "source": [
    "knn = KNeighborsRegressor(n_neighbors=10)\n",
    "knn.fit(X_train, y_train)\n",
    "k1 = knn.score(X_train, y_train)\n",
    "k2 = knn.score(X_test, y_test)\n",
    "print(\"R² of KNN Regressor on training set: {:.3f}\".format(k1))\n",
    "print(\"R² of KNN Regressor on test set: {:.3f}\".format(k2))"
   ]
  },
  {
   "cell_type": "markdown",
   "metadata": {
    "id": "44LXsqwuViZU"
   },
   "source": [
    "## 3. Decison Tree Regressor"
   ]
  },
  {
   "cell_type": "code",
   "execution_count": null,
   "metadata": {
    "colab": {
     "base_uri": "https://localhost:8080/"
    },
    "id": "ryXWbO-qVnnI",
    "outputId": "5c3017b3-2ced-4720-c8c7-e2b5dc678619"
   },
   "outputs": [],
   "source": [
    "from sklearn.tree import DecisionTreeRegressor\n",
    "\n",
    "tree = DecisionTreeRegressor(random_state=0)\n",
    "tree.fit(X_train, y_train)\n",
    "t1 = tree.score(X_train, y_train)\n",
    "t2 = tree.score(X_test, y_test)\n",
    "\n",
    "print(\"R² of Decision Tree Regressor on training set: {:.3f}\".format(t1))\n",
    "print(\"R² of Decision Tree Regressor on test set: {:.3f}\".format(t2))"
   ]
  },
  {
   "cell_type": "markdown",
   "metadata": {
    "id": "HAHZkEftWTct"
   },
   "source": [
    "*The R² on the training set is 100%, while the test set R² is much worse. This is an indicative that the tree is overfitting and not generalizing well to new data.*"
   ]
  },
  {
   "cell_type": "markdown",
   "metadata": {
    "id": "xuEniiccWV3I"
   },
   "source": [
    "Therefore, we need to apply pre-pruning to the tree. We set max_depth=7, limiting the depth of the tree decreases overfitting. This leads to a lower R² on the training set, but an improvement on the test set."
   ]
  },
  {
   "cell_type": "code",
   "execution_count": null,
   "metadata": {
    "colab": {
     "base_uri": "https://localhost:8080/"
    },
    "id": "vfULf6kwVnW6",
    "outputId": "242a1b48-cb47-4c2e-fa24-25a05961c91f"
   },
   "outputs": [],
   "source": [
    "tree1 = DecisionTreeRegressor(max_depth=3, random_state=0)\n",
    "tree1.fit(X_train, y_train)\n",
    "t3 = tree1.score(X_train, y_train)\n",
    "t4 = tree1.score(X_test, y_test)\n",
    "\n",
    "print(\"R² of Decision Tree Regressor on training set: {:.3f}\".format(t3))\n",
    "print(\"R² of Decision Tree Regressor on test set: {:.3f}\".format(t4))"
   ]
  },
  {
   "cell_type": "markdown",
   "metadata": {
    "id": "RbSkib5QWwOM"
   },
   "source": [
    "**Feature Importance in Decision Tree Regressor**\n",
    "\n",
    "Feature importance rates how important each feature is for the decision a tree makes. It is a number between 0 and 1 for each feature, where 0 means “not used at all” and 1 means “perfectly predicts the target”."
   ]
  },
  {
   "cell_type": "markdown",
   "metadata": {
    "id": "9Q54O1f4WzU4"
   },
   "source": [
    "The feature importances always sum to 1:"
   ]
  },
  {
   "cell_type": "code",
   "execution_count": null,
   "metadata": {
    "colab": {
     "base_uri": "https://localhost:8080/"
    },
    "id": "78hayOw3VnE_",
    "outputId": "1e66f2aa-2cb0-4238-9b74-3fd7e5bee431"
   },
   "outputs": [],
   "source": [
    "print(\"Feature importances:\\n{}\".format(tree1.feature_importances_))"
   ]
  },
  {
   "cell_type": "markdown",
   "metadata": {
    "id": "89ExHdy5W_3x"
   },
   "source": [
    "Then we can visualize the feature importances:"
   ]
  },
  {
   "cell_type": "code",
   "execution_count": null,
   "metadata": {
    "colab": {
     "base_uri": "https://localhost:8080/",
     "height": 388
    },
    "id": "xXl-5251W-aW",
    "outputId": "22dd1fe9-a623-4a5d-9a1c-bd297fbae61e"
   },
   "outputs": [],
   "source": [
    "dataset_scaled_features = [x for i,x in enumerate(dataset_scaled.columns) if i!=8]\n",
    "\n",
    "def plot_feature_importances_housing(model):\n",
    " plt.figure(figsize=(8,6))\n",
    " n_features = 8\n",
    " plt.barh(range(n_features), model.feature_importances_, align=\"center\")\n",
    " plt.yticks(np.arange(n_features), dataset_scaled_features)\n",
    " plt.xlabel(\"Feature importance\")\n",
    " plt.ylabel(\"Feature\")\n",
    " plt.ylim(-1, n_features)\n",
    "\n",
    "plot_feature_importances_housing(tree1)\n",
    "plt.savefig(\"feature_importance\")"
   ]
  },
  {
   "cell_type": "markdown",
   "metadata": {
    "id": "xLxRLUV_W9-R"
   },
   "source": [
    "*Feature “MedInc” is by far the most important feature.*"
   ]
  },
  {
   "cell_type": "markdown",
   "metadata": {
    "id": "5r5fIUXlYY5D"
   },
   "source": [
    "## 4. Random Forest Regressor"
   ]
  },
  {
   "cell_type": "markdown",
   "metadata": {
    "id": "xnFoIuNhYd6T"
   },
   "source": [
    "Let’s apply a Random Forest Regressor consisting of 100 trees on the housing data set:"
   ]
  },
  {
   "cell_type": "code",
   "execution_count": null,
   "metadata": {
    "colab": {
     "base_uri": "https://localhost:8080/"
    },
    "id": "tPc-EtljYdO4",
    "outputId": "7df5f3a4-e67f-42a6-8f72-9d999c9f7b15"
   },
   "outputs": [],
   "source": [
    "from sklearn.ensemble import RandomForestRegressor\n",
    "\n",
    "rf = RandomForestRegressor(n_estimators=100, random_state=0)\n",
    "rf.fit(X_train, y_train)\n",
    "r1 = rf.score(X_train, y_train)\n",
    "r2 = rf.score(X_test, y_test)\n",
    "\n",
    "print(\"R² of Random Forest Regressor on training set: {:.3f}\".format(r1))\n",
    "print(\"R² of Random Forest Regressor on test set: {:.3f}\".format(r2))"
   ]
  },
  {
   "cell_type": "markdown",
   "metadata": {
    "id": "4GQ4WsVFYpvk"
   },
   "source": [
    "*The random forest gives us a R² 80.9%, better than the linear regression model or a single decision tree, without tuning any parameters. However, we can adjust the max_features setting, to see whether the result can be improved.*"
   ]
  },
  {
   "cell_type": "code",
   "execution_count": null,
   "metadata": {
    "colab": {
     "base_uri": "https://localhost:8080/"
    },
    "id": "lHcLEn-rYdIm",
    "outputId": "c8bf25e0-dfc2-4c6e-c6d3-d3216beb7ed3"
   },
   "outputs": [],
   "source": [
    "rf1 = RandomForestRegressor(max_depth=7, n_estimators=100, random_state=42)\n",
    "rf1.fit(X_train, y_train)\n",
    "r3 = rf1.score(X_train, y_train)\n",
    "r4 = rf1.score(X_test, y_test)\n",
    "\n",
    "print(\"R² of Random Forest Regressor on training set: {:.3f}\".format(r3))\n",
    "print(\"R² of Random Forest Regressor on test set: {:.3f}\".format(r4))"
   ]
  },
  {
   "cell_type": "markdown",
   "metadata": {
    "id": "PF1A3MSqY6NT"
   },
   "source": [
    "*It did not, this indicates that the default parameters of the random forest work well.*"
   ]
  },
  {
   "cell_type": "markdown",
   "metadata": {
    "id": "5ldv8rJLY9Ps"
   },
   "source": [
    "**Feature importance in Random Forest Regressor**"
   ]
  },
  {
   "cell_type": "code",
   "execution_count": null,
   "metadata": {
    "colab": {
     "base_uri": "https://localhost:8080/",
     "height": 388
    },
    "id": "OK0sQioVYdEa",
    "outputId": "6e877c82-9e50-4f85-8364-b5fcc18c7c52"
   },
   "outputs": [],
   "source": [
    "plot_feature_importances_housing(rf)"
   ]
  },
  {
   "cell_type": "markdown",
   "metadata": {
    "id": "th-kP9EmZIED"
   },
   "source": [
    "Similarly to the single decision tree, the random forest also gives a lot of importance to the “Medinc” feature, and also chooses “AveOccp” to be the 2nd most informative feature overall. The randomness in building the random forest forces the algorithm to consider many possible explanations, the result being that the random forest captures a much broader picture of the data than a single tree."
   ]
  },
  {
   "cell_type": "markdown",
   "metadata": {
    "id": "WZSJBI7AZP1p"
   },
   "source": [
    "## 5.Gradient Boosting Regressor"
   ]
  },
  {
   "cell_type": "code",
   "execution_count": null,
   "metadata": {
    "colab": {
     "base_uri": "https://localhost:8080/"
    },
    "id": "oPEnata9YdAB",
    "outputId": "66c4a9d9-3429-4c49-f756-38ea8cc1de6f"
   },
   "outputs": [],
   "source": [
    "from sklearn.ensemble import GradientBoostingRegressor\n",
    "gb = GradientBoostingRegressor(random_state=0)\n",
    "gb.fit(X_train, y_train)\n",
    "g1 = gb.score(X_train, y_train)\n",
    "g2 = gb.score(X_test, y_test)\n",
    "\n",
    "print(\"R^2 of Gradient Boosting Regressor on training set: {:.3f}\".format(g1))\n",
    "print(\"R^2 of Gradient Boosting Regressor on test set: {:.3f}\".format(g2))"
   ]
  },
  {
   "cell_type": "markdown",
   "metadata": {
    "id": "QktiTOvhZcyG"
   },
   "source": [
    "*We are likely to be generalizing. Let’s try to improve the results by either apply stronger pre-pruning by limiting the maximum depth or lower the learning rate:*"
   ]
  },
  {
   "cell_type": "code",
   "execution_count": null,
   "metadata": {
    "colab": {
     "base_uri": "https://localhost:8080/"
    },
    "id": "aGcbWZcDYc5T",
    "outputId": "713829e4-9d0e-44b6-a9e7-995750da695d"
   },
   "outputs": [],
   "source": [
    "gb1 = GradientBoostingRegressor(random_state=0, max_depth=4)\n",
    "gb1.fit(X_train, y_train)\n",
    "g3 = gb1.score(X_train, y_train)\n",
    "g4 = gb1.score(X_test, y_test)\n",
    "\n",
    "print(\"R² of Gradient Boosting Regressor on training set: {:.3f}\".format(g3))\n",
    "print(\"R² of Gradient Boosting Regressor on test set: {:.3f}\".format(g4))"
   ]
  },
  {
   "cell_type": "code",
   "execution_count": null,
   "metadata": {
    "colab": {
     "base_uri": "https://localhost:8080/"
    },
    "id": "DjgAPI18YcsS",
    "outputId": "5dedd9a7-e3bb-46de-faa1-1450421416c1"
   },
   "outputs": [],
   "source": [
    "gb2 = GradientBoostingRegressor(random_state=0, learning_rate=0.15)\n",
    "gb2.fit(X_train, y_train)\n",
    "g5 = gb2.score(X_train, y_train)\n",
    "g6 = gb2.score(X_test, y_test)\n",
    "\n",
    "print(\"R² of Gradient Boosting Regressor on training set: {:.3f}\".format(g5))\n",
    "print(\"R² of Gradient Boosting Regressor on test set: {:.3f}\".format(g6))"
   ]
  },
  {
   "cell_type": "markdown",
   "metadata": {
    "id": "3X1-22zzZvJc"
   },
   "source": [
    "*Both methods of decreasing the model complexity increased both the training set R² and the test set R², as expected. However, in this case, none of these methods increased the generalization performance of the test set.*"
   ]
  },
  {
   "cell_type": "markdown",
   "metadata": {
    "id": "qZQFxazXZzFB"
   },
   "source": [
    "We can visualize the feature importances to get more insight into our model even though we are not really happy with the model:"
   ]
  },
  {
   "cell_type": "code",
   "execution_count": null,
   "metadata": {
    "colab": {
     "base_uri": "https://localhost:8080/",
     "height": 388
    },
    "id": "IMJVIS6eZ2NI",
    "outputId": "31ff8788-7933-4e7e-bc2a-249e27057728"
   },
   "outputs": [],
   "source": [
    "plot_feature_importances_housing(gb1)"
   ]
  },
  {
   "cell_type": "markdown",
   "metadata": {
    "id": "LyMtKeHKZ6xb"
   },
   "source": [
    "*We can see that the feature importances of the gradient boosted trees are similar to the feature importances of the random forests, it gives weight to all of the features in this case.*"
   ]
  },
  {
   "cell_type": "markdown",
   "metadata": {
    "id": "05Rp0RqSZ96O"
   },
   "source": [
    "## 6.Support Vector Regressor"
   ]
  },
  {
   "cell_type": "markdown",
   "metadata": {
    "id": "KS7GQIJraQ3t"
   },
   "source": [
    "\n",
    "\n",
    "> SVM requires all the features to vary on a similar scale.\n",
    "\n"
   ]
  },
  {
   "cell_type": "code",
   "execution_count": null,
   "metadata": {
    "colab": {
     "base_uri": "https://localhost:8080/"
    },
    "id": "mg-Q0FAHaCWG",
    "outputId": "a258bfd1-5b4e-4a67-bbd3-3da175f7e74b"
   },
   "outputs": [],
   "source": [
    "from sklearn.svm import SVR\n",
    "svr = SVR()\n",
    "svr.fit(X_train, y_train)\n",
    "s1 = svr.score(X_train, y_train)\n",
    "s2 = svr.score(X_test, y_test)\n",
    "\n",
    "print(\"R² of Support Vector Regressor on training set: {:.3f}\".format(s1))\n",
    "print(\"R² of Support Vector Regressor on test set: {:.3f}\".format(s2))"
   ]
  },
  {
   "cell_type": "markdown",
   "metadata": {
    "id": "DkiF3N2NbKto"
   },
   "source": [
    "\n",
    "\n",
    ">  In some cases we can be underfitting, where training and test set performance are quite similar but less close to 100% accuracy. From here, we can try increasing either gamma or C to fit a more complex model.\n",
    "\n"
   ]
  },
  {
   "cell_type": "code",
   "execution_count": null,
   "metadata": {
    "colab": {
     "base_uri": "https://localhost:8080/"
    },
    "id": "smYg3w46Z2DP",
    "outputId": "2a860d12-0ded-4b1f-ee75-0b5d5644c646"
   },
   "outputs": [],
   "source": [
    "svr2 = SVR(gamma=10)\n",
    "svr2.fit(X_train, y_train)\n",
    "s5 = svr2.score(X_train, y_train)\n",
    "s6 = svr2.score(X_test, y_test)\n",
    "\n",
    "print(\"R² of Support Vector Regressor on training set: {:.3f}\".format(s5))\n",
    "print(\"R² of Support Vector Regressor on test set: {:.3f}\".format(s6))"
   ]
  },
  {
   "cell_type": "markdown",
   "metadata": {
    "id": "GdLkWp3tbcVT"
   },
   "source": [
    "*The model performed worse on the test data after increasing gamma.The default value of the SVR is best.*"
   ]
  },
  {
   "cell_type": "markdown",
   "metadata": {
    "id": "DuaOpxNybzgQ"
   },
   "source": [
    "## 7.Deep Learning"
   ]
  },
  {
   "cell_type": "markdown",
   "metadata": {
    "id": "w042hXyIhLKw"
   },
   "source": [
    "\n",
    "\n",
    "> Deep learning algorithms also expect all input features to vary in a similar way, and ideally to have a mean of 0, and a variance of 1. We must re-scale our data so that it fulfills these requirements.\n",
    "\n"
   ]
  },
  {
   "cell_type": "code",
   "execution_count": null,
   "metadata": {
    "colab": {
     "base_uri": "https://localhost:8080/"
    },
    "id": "J6YlLU09Z1x3",
    "outputId": "5b91f208-c047-436e-8112-d6392ec332c8"
   },
   "outputs": [],
   "source": [
    "from sklearn.neural_network import MLPRegressor\n",
    "mlp = MLPRegressor(random_state=42)\n",
    "mlp.fit(X_train, y_train)\n",
    "m1 = mlp.score(X_train, y_train)\n",
    "m2 = mlp.score(X_test, y_test)\n",
    "\n",
    "print(\"R² of MLP Regressor on training set: {:.3f}\".format(m1))\n",
    "print(\"R² of MLP Regressor on test set: {:.3f}\".format(m2))"
   ]
  },
  {
   "cell_type": "markdown",
   "metadata": {
    "id": "yuzwd9cfgytJ"
   },
   "source": [
    "*We can notice that the model performed well in the trained data and very bad in testing data.*"
   ]
  },
  {
   "cell_type": "markdown",
   "metadata": {
    "id": "LdlFWRdwhCH0"
   },
   "source": [
    "Let’s try to increase the number of iterations:"
   ]
  },
  {
   "cell_type": "code",
   "execution_count": null,
   "metadata": {
    "colab": {
     "base_uri": "https://localhost:8080/"
    },
    "id": "rWxPgACoZ1ky",
    "outputId": "be86417f-5a65-4c4c-ffcf-0c7a95e01c7a"
   },
   "outputs": [],
   "source": [
    "mlp2 = MLPRegressor(max_iter=1000, random_state=0)\n",
    "mlp2.fit(X_train, y_train)\n",
    "m5 = mlp2.score(X_train, y_train)\n",
    "m6 = mlp2.score(X_test, y_test)\n",
    "\n",
    "print(\"R² of MLP Regressor on training set: {:.3f}\".format(m5))\n",
    "print(\"R² of MLP Regressor on test set: {:.3f}\".format(m6))"
   ]
  },
  {
   "cell_type": "markdown",
   "metadata": {
    "id": "O169Vw5xhecT"
   },
   "source": [
    "Increasing the number of iterations gived a worse result."
   ]
  },
  {
   "cell_type": "markdown",
   "metadata": {
    "id": "pptIJF1EhlRS"
   },
   "source": [
    "Let’s increase the alpha parameter and add stronger regularization of the weights:"
   ]
  },
  {
   "cell_type": "code",
   "execution_count": null,
   "metadata": {
    "colab": {
     "base_uri": "https://localhost:8080/"
    },
    "id": "K0VspNipho3i",
    "outputId": "e3d4cb27-dc7e-4b7e-816d-e7063c2091a2"
   },
   "outputs": [],
   "source": [
    "mlp3 = MLPRegressor(max_iter=1000, alpha=1, random_state=0)\n",
    "mlp3.fit(X_train, y_train)\n",
    "m7 = mlp3.score(X_train, y_train)\n",
    "m8 = mlp3.score(X_test, y_test)\n",
    "\n",
    "print(\"R² of MLP Regressor on training set: {:.3f}\".format(m7))\n",
    "print(\"R² of MLP Regressor on test set: {:.3f}\".format(m8))"
   ]
  },
  {
   "cell_type": "markdown",
   "metadata": {
    "id": "JUb3AL8Qh3dk"
   },
   "source": [
    "The result is not good either."
   ]
  },
  {
   "cell_type": "markdown",
   "metadata": {
    "id": "_FzlycUgiBNL"
   },
   "source": [
    "\n",
    "\n",
    "---\n",
    "\n",
    "\n",
    "\n",
    "---\n",
    "\n"
   ]
  },
  {
   "cell_type": "markdown",
   "metadata": {
    "id": "5yownkkhiH_h"
   },
   "source": [
    "# CONCLUSION"
   ]
  },
  {
   "cell_type": "code",
   "execution_count": null,
   "metadata": {
    "colab": {
     "base_uri": "https://localhost:8080/",
     "height": 269
    },
    "id": "di7alC8siMIP",
    "outputId": "da831eca-6636-41dc-9812-485dcd256a00"
   },
   "outputs": [],
   "source": [
    "models = ['Linear Regression','KNN Regressor', 'Decision Tree Regressor' ,'Random Forest Regressor',\n",
    " 'Gradient Boosting Regressor','Support Vector Regressor', 'MLP Regressor']\n",
    "tests_score = [l2,k2, t4, r2, g4, s2, m1]\n",
    "compare_models = pd.DataFrame({ 'Algorithms': models, 'Tests Score': tests_score })\n",
    "compare_models.sort_values(by = 'Tests Score', ascending = False)"
   ]
  },
  {
   "cell_type": "code",
   "execution_count": null,
   "metadata": {
    "colab": {
     "base_uri": "https://localhost:8080/",
     "height": 497
    },
    "id": "WLGkWMqDirmC",
    "outputId": "c27433c3-5fc4-43c5-b923-bcc8e731d95e"
   },
   "outputs": [],
   "source": [
    "plt.figure(figsize=(8,8))\n",
    "sns.barplot(x = 'Tests Score', y = 'Algorithms', data = compare_models)\n",
    "plt.show()"
   ]
  },
  {
   "cell_type": "markdown",
   "metadata": {
    "id": "Ohuswrq_R6qN"
   },
   "source": [
    "# PREDICTION WITH TEST DATA"
   ]
  },
  {
   "cell_type": "markdown",
   "metadata": {
    "id": "hTj14SbjUL0b"
   },
   "source": [
    "## 1.   Linear Regression\n",
    "\n",
    "\n"
   ]
  },
  {
   "cell_type": "code",
   "execution_count": null,
   "metadata": {
    "colab": {
     "base_uri": "https://localhost:8080/"
    },
    "id": "YZJF_Z8kR-N2",
    "outputId": "6886b465-cdc8-4673-92e7-d5b1634e4179"
   },
   "outputs": [],
   "source": [
    "reg_pred=linreg.predict(X_test)\n",
    "reg_pred"
   ]
  },
  {
   "cell_type": "markdown",
   "metadata": {
    "id": "VYNzR13ESQGy"
   },
   "source": [
    "### Assumptions"
   ]
  },
  {
   "cell_type": "code",
   "execution_count": null,
   "metadata": {
    "colab": {
     "base_uri": "https://localhost:8080/",
     "height": 283
    },
    "id": "82Bms6pmSMK1",
    "outputId": "fe98dbcd-7557-4ed7-ad6a-dc4d0207c417"
   },
   "outputs": [],
   "source": [
    "## plot a scatter plot for the prediction\n",
    "plt.scatter(y_test,reg_pred)"
   ]
  },
  {
   "cell_type": "markdown",
   "metadata": {
    "id": "95c1FXFRSb06"
   },
   "source": []
  },
  {
   "cell_type": "markdown",
   "metadata": {
    "id": "Ps0KfEd-Sxvl"
   },
   "source": [
    "\n",
    "\n",
    "> Residuals in a statistical or machine learning model are the differences between observed and predicted values of data. They are a diagnostic measure used when assessing the quality of a model. They are also known as errors.\n",
    "\n"
   ]
  },
  {
   "cell_type": "code",
   "execution_count": null,
   "metadata": {
    "colab": {
     "base_uri": "https://localhost:8080/"
    },
    "id": "y8ejfJz7SXqE",
    "outputId": "a324dda5-3952-4023-f1e4-a1a2e8bb5910"
   },
   "outputs": [],
   "source": [
    "## Residuals\n",
    "residuals=y_test-reg_pred\n",
    "residuals"
   ]
  },
  {
   "cell_type": "markdown",
   "metadata": {
    "id": "OK5fbj9nSh_d"
   },
   "source": []
  },
  {
   "cell_type": "code",
   "execution_count": null,
   "metadata": {
    "colab": {
     "base_uri": "https://localhost:8080/",
     "height": 387
    },
    "id": "6Kh0iB7jSgmj",
    "outputId": "6f940fb1-5315-47a2-da33-2177f6e570fe"
   },
   "outputs": [],
   "source": [
    "## Plot the residuals \n",
    "\n",
    "sns.displot(residuals,kind=\"kde\")"
   ]
  },
  {
   "cell_type": "code",
   "execution_count": null,
   "metadata": {
    "colab": {
     "base_uri": "https://localhost:8080/",
     "height": 283
    },
    "id": "OMHvk5AlS4nk",
    "outputId": "300f980a-ac4e-4c8f-fb08-13a56dd14620"
   },
   "outputs": [],
   "source": [
    "## Scatter plot with respect to prediction and residuals\n",
    "## uniform distribution\n",
    "plt.scatter(reg_pred,residuals)"
   ]
  },
  {
   "cell_type": "code",
   "execution_count": null,
   "metadata": {
    "colab": {
     "base_uri": "https://localhost:8080/"
    },
    "id": "hV2P3MZJS-jg",
    "outputId": "c9f73003-dda2-4593-96e1-28e08efbca32"
   },
   "outputs": [],
   "source": [
    "from sklearn.metrics import mean_squared_error\n",
    "from sklearn.metrics import mean_absolute_error\n",
    "\n",
    "print(mean_absolute_error(y_test,reg_pred))\n",
    "print(mean_squared_error(y_test,reg_pred))\n",
    "print(np.sqrt(mean_squared_error(y_test,reg_pred)))"
   ]
  },
  {
   "cell_type": "markdown",
   "metadata": {
    "id": "MFeRoOduTbkc"
   },
   "source": [
    "### R square and adjusted R square"
   ]
  },
  {
   "cell_type": "markdown",
   "metadata": {
    "id": "a-jX5YPjTfia"
   },
   "source": [
    "**R^2 = 1 - SSR/SST**\n",
    "\n",
    "R^2 = coefficient of determination SSR = sum of squares of residuals SST = total sum of squares"
   ]
  },
  {
   "cell_type": "code",
   "execution_count": null,
   "metadata": {
    "colab": {
     "base_uri": "https://localhost:8080/"
    },
    "id": "bIN7SZ--TN7o",
    "outputId": "57935391-88e6-4acd-83b3-a28ef2f0314e"
   },
   "outputs": [],
   "source": [
    "from sklearn.metrics import r2_score\n",
    "score=r2_score(y_test,reg_pred)\n",
    "print(score)"
   ]
  },
  {
   "cell_type": "markdown",
   "metadata": {
    "id": "aNv6nn0ZT6v5"
   },
   "source": [
    " **Adjusted R2 = 1 – [(1-R2)*(n-1)/(n-k-1)]**\n",
    "\n",
    "where:\n",
    "\n",
    "R2: The R2 of the model n: The number of observations k: The number of predictor variables"
   ]
  },
  {
   "cell_type": "code",
   "execution_count": null,
   "metadata": {
    "colab": {
     "base_uri": "https://localhost:8080/"
    },
    "id": "W0H0BEaDTm0J",
    "outputId": "cddec1e9-9dee-44c3-f77e-c79970a07d7d"
   },
   "outputs": [],
   "source": [
    "#display adjusted R-squared\n",
    "1 - (1-score)*(len(y_test)-1)/(len(y_test)-X_test.shape[1]-1)"
   ]
  },
  {
   "cell_type": "markdown",
   "metadata": {
    "id": "x4PcEXtvoFzo"
   },
   "source": [
    "# Pickling The Model file For Deployment"
   ]
  },
  {
   "cell_type": "markdown",
   "metadata": {
    "id": "Sv6fs9tLoKdF"
   },
   "source": [
    "Since the **Gradient Boosting Regressor\t** performed better than the other models we will use it for the deployment."
   ]
  },
  {
   "cell_type": "code",
   "execution_count": null,
   "metadata": {
    "id": "HdlJh83MUIro"
   },
   "outputs": [],
   "source": [
    "import pickle"
   ]
  },
  {
   "cell_type": "code",
   "execution_count": null,
   "metadata": {
    "id": "jqPmVb8pohUP"
   },
   "outputs": [],
   "source": [
    "pickle.dump(gb,open('regmodel.pkl','wb'))"
   ]
  },
  {
   "cell_type": "code",
   "execution_count": null,
   "metadata": {
    "id": "raQ6TCWQsDvJ"
   },
   "outputs": [],
   "source": [
    "pickled_model=pickle.load(open('regmodel.pkl','rb'))"
   ]
  },
  {
   "cell_type": "code",
   "execution_count": null,
   "metadata": {
    "id": "T5PTJ5zNsTLb"
   },
   "outputs": [],
   "source": []
  }
 ],
 "metadata": {
  "colab": {
   "collapsed_sections": [],
   "provenance": []
  },
  "kernelspec": {
   "display_name": "Python 3",
   "language": "python",
   "name": "python3"
  },
  "language_info": {
   "codemirror_mode": {
    "name": "ipython",
    "version": 3
   },
   "file_extension": ".py",
   "mimetype": "text/x-python",
   "name": "python",
   "nbconvert_exporter": "python",
   "pygments_lexer": "ipython3",
   "version": "3.8.5"
  }
 },
 "nbformat": 4,
 "nbformat_minor": 1
}
